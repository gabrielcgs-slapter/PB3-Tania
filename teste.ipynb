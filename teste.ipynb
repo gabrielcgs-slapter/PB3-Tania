{
 "cells": [
  {
   "cell_type": "code",
   "execution_count": 8,
   "metadata": {},
   "outputs": [],
   "source": [
    "import pytz\n",
    "import smtplib\n",
    "import email.message\n",
    "import datetime"
   ]
  },
  {
   "cell_type": "code",
   "execution_count": 16,
   "metadata": {},
   "outputs": [
    {
     "name": "stdout",
     "output_type": "stream",
     "text": [
      "2025-02-26 13:51:52.233536-03:00\n",
      "26/02/2025 13:51:52\n"
     ]
    }
   ],
   "source": [
    "#timezone = pytz.timezone('Etc/GMT-3')\n",
    "timezone = pytz.timezone('Etc/GMT+3')\n",
    "data_hora = datetime.datetime.now(timezone) \n",
    "print(data_hora)\n",
    "data_hora_str = data_hora.strftime(\"%d/%m/%Y %H:%M:%S\")\n",
    "print(data_hora_str)\n"
   ]
  },
  {
   "cell_type": "code",
   "execution_count": null,
   "metadata": {},
   "outputs": [],
   "source": [
    "while pesquisador != \"\":\n",
    "    driver.find_element(By.ID,\"gerirPesquisaForm:idSituacoes:11:idItem\").click()\n",
    "    driver.find_element(By.ID,\"gerirPesquisaForm:idSituacoes:14:idItem\").click()\n",
    "    wait.until(EC.element_to_be_clickable((By.XPATH, '//*[@id=\"gerirPesquisaForm:idBtnBuscarProjPesquisa\"]'))).click()\n",
    "    break"
   ]
  },
  {
   "cell_type": "code",
   "execution_count": null,
   "metadata": {},
   "outputs": [],
   "source": [
    "# baixar python 3.9\n"
   ]
  }
 ],
 "metadata": {
  "kernelspec": {
   "display_name": "Python 3",
   "language": "python",
   "name": "python3"
  },
  "language_info": {
   "codemirror_mode": {
    "name": "ipython",
    "version": 3
   },
   "file_extension": ".py",
   "mimetype": "text/x-python",
   "name": "python",
   "nbconvert_exporter": "python",
   "pygments_lexer": "ipython3",
   "version": "3.12.1"
  }
 },
 "nbformat": 4,
 "nbformat_minor": 2
}
